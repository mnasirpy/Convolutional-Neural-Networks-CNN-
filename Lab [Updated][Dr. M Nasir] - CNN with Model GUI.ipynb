{
 "cells": [
  {
   "cell_type": "code",
   "execution_count": 11,
   "id": "616011bf",
   "metadata": {},
   "outputs": [],
   "source": [
    "import tkinter as tk\n",
    "from tkinter import filedialog\n",
    "from tkinter import messagebox\n",
    "from PIL import Image, ImageTk\n",
    "import numpy as np\n",
    "import tensorflow as tf"
   ]
  },
  {
   "cell_type": "code",
   "execution_count": 12,
   "id": "b3cbb6ed",
   "metadata": {},
   "outputs": [],
   "source": [
    "# model=tf.keras.models.load_model('C:/Users/NITB/Downloads/CNN-MRI-Deployed')\n",
    "model=tf.keras.models.load_model('CNN_MRI_Model.h5')\n"
   ]
  },
  {
   "cell_type": "code",
   "execution_count": null,
   "id": "54f10d6e",
   "metadata": {},
   "outputs": [
    {
     "name": "stdout",
     "output_type": "stream",
     "text": [
      "1/1 [==============================] - 2s 2s/step\n"
     ]
    }
   ],
   "source": [
    "CATEGORIES=['glioma_tumor','meningioma_tumor','no_tumor','pituitary_tumor']\n",
    "\n",
    "def classify_image():\n",
    "    file_path = filedialog.askopenfilename(filetypes=[(\"Image files\", \"*.jpg *.jpeg\")])\n",
    "    if file_path:\n",
    "        image = Image.open(file_path).resize((180, 180))\n",
    "        image_array = np.array(image) / 255.0\n",
    "        prediction = model.predict(np.array([image_array]))\n",
    "        predicted_digit = np.argmax(prediction)\n",
    "\n",
    "        # Convert the PIL image to ImageTk format\n",
    "        image_tk = ImageTk.PhotoImage(image=image)\n",
    "\n",
    "        image_label.config(image=image_tk)\n",
    "        image_label.image = image_tk  # Keep a reference to avoid garbage collection\n",
    "\n",
    "        result_label.config(text=f'Predicted Digit: {CATEGORIES[predicted_digit]}')\n",
    "\n",
    "# Create the main tkinter window\n",
    "root = tk.Tk()\n",
    "root.title(\"Image Classification\")\n",
    "\n",
    "# Create widgets\n",
    "open_button = tk.Button(root, text=\"Open Image\", command=classify_image)\n",
    "image_label = tk.Label(root)\n",
    "result_label = tk.Label(root, text=\"Predicted Digit: \")\n",
    "\n",
    "# Pack widgets\n",
    "open_button.pack(pady=10)\n",
    "image_label.pack()\n",
    "result_label.pack()\n",
    "\n",
    "# Start the tkinter event loop\n",
    "root.mainloop()\n"
   ]
  },
  {
   "cell_type": "code",
   "execution_count": null,
   "id": "b95fdd5b",
   "metadata": {},
   "outputs": [],
   "source": []
  },
  {
   "cell_type": "code",
   "execution_count": null,
   "id": "6dc417f0",
   "metadata": {},
   "outputs": [],
   "source": []
  }
 ],
 "metadata": {
  "kernelspec": {
   "display_name": "Python 3 (ipykernel)",
   "language": "python",
   "name": "python3"
  },
  "language_info": {
   "codemirror_mode": {
    "name": "ipython",
    "version": 3
   },
   "file_extension": ".py",
   "mimetype": "text/x-python",
   "name": "python",
   "nbconvert_exporter": "python",
   "pygments_lexer": "ipython3",
   "version": "3.10.9"
  }
 },
 "nbformat": 4,
 "nbformat_minor": 5
}
